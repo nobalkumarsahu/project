{
 "cells": [
  {
   "cell_type": "code",
   "execution_count": null,
   "id": "5127887c",
   "metadata": {},
   "outputs": [],
   "source": [
    "class app:\n",
    "    \n",
    "    def __init__(self):\n",
    "        self.food={}\n",
    "        self.food_id={}\n",
    "        self.admin_personal_details={}\n",
    "        self.user_personal_details={}\n",
    "        self.ordered_item={}\n",
    "    \n",
    "    def fun(self):\n",
    "         while True:\n",
    "            print(\"---x \"*9+ \" HOME PAGE \" +\"---x \"*9+\"\\n\")\n",
    "            print(\"\\nPlease select below option by pressing number only :)\\n\")\n",
    "            print(\"\\nIf you don't have an account? First register your self :)\\n\")\n",
    "            print(\"\\t1. ADMIN REGISTERATION   \\t2. USER REGISTERATION\\n  \\t3. ADMIN LOGIN    \\t        4. USER LOGIN\\n\")\n",
    "            y=input()\n",
    "                    \n",
    "            if y==\"1\":\n",
    "                obj.admin_registeration()\n",
    "            elif y==\"2\":\n",
    "                obj.user_register()\n",
    "            elif y==\"3\":\n",
    "                obj.admin_login()\n",
    "            elif y==\"4\":\n",
    "                obj.user_login()           \n",
    "            else:\n",
    "                print(\"NOT A VALID OPTION\")\n",
    "    \n",
    "    def admin_register(self):\n",
    "        try:\n",
    "            self.admin_email=input(\"Enter your email id : \")\n",
    "            self.admin_pass=input(\"Enter your password : \")\n",
    "            self.admin_details={\"Email ID\":self.admin_email,\"Password\":self.admin_pass}\n",
    "            print(\"\\n!! ACCOUNT CREATED SUCCESSFULLY !!\\n\")         \n",
    "            print(\"ADMIN DETAILS: \")\n",
    "            for i in self.admin_details:\n",
    "                print(i, \":\", self.admin_details[i])\n",
    "        except Exception as e:\n",
    "            print(\"\\n!! PLEASE PROVIDE CORRECT INPUTS !!\\n \")\n",
    "\n",
    "    \n",
    "    \n",
    "object = app()\n",
    "object.fun()"
   ]
  }
 ],
 "metadata": {
  "kernelspec": {
   "display_name": "Python 3 (ipykernel)",
   "language": "python",
   "name": "python3"
  },
  "language_info": {
   "codemirror_mode": {
    "name": "ipython",
    "version": 3
   },
   "file_extension": ".py",
   "mimetype": "text/x-python",
   "name": "python",
   "nbconvert_exporter": "python",
   "pygments_lexer": "ipython3",
   "version": "3.10.0"
  }
 },
 "nbformat": 4,
 "nbformat_minor": 5
}
